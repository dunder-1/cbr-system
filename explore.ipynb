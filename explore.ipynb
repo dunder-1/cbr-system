{
 "cells": [
  {
   "cell_type": "code",
   "execution_count": 1,
   "metadata": {},
   "outputs": [],
   "source": [
    "from model import *\n",
    "from similarity import *"
   ]
  },
  {
   "cell_type": "code",
   "execution_count": 2,
   "metadata": {},
   "outputs": [
    {
     "data": {
      "text/plain": [
       "[Case(problem={'Body': 'sedan', 'Price': 28699, 'Color': 'dark_red'}, solution={'Manufacturer': 'bmw', 'Model': '325td'}),\n",
       " Case(problem={'Body': 'coupe', 'Price': 33299, 'Color': 'dark_red'}, solution={'Manufacturer': 'bmw', 'Model': '320i'}),\n",
       " Case(problem={'Body': 'station_wagon', 'Price': 87499, 'Color': 'dark_green'}, solution={'Manufacturer': 'bmw', 'Model': '540i'})]"
      ]
     },
     "execution_count": 2,
     "metadata": {},
     "output_type": "execute_result"
    }
   ],
   "source": [
    "case_base = build_case_base(\n",
    "    \"data/used_cars_flat.csv\",\n",
    "    problem_fields = (\"Price\", \"Body\", \"Color\"),\n",
    "    solution_fields = (\"Manufacturer\", \"Model\"),\n",
    "    encoding = \"utf-8\",\n",
    "    delimiter = \";\",\n",
    "    set_int = True\n",
    ")\n",
    "case_base[:3]"
   ]
  },
  {
   "cell_type": "code",
   "execution_count": 3,
   "metadata": {},
   "outputs": [
    {
     "name": "stdout",
     "output_type": "stream",
     "text": [
      "Your Query:\n",
      "  - Price = 30000\n",
      "\n",
      "I recommend you this car:\n",
      "Mercedes-benz c_180\n",
      "\n",
      "Explanation:\n",
      "  - Price = 29999 (similarity: 0.50)\n"
     ]
    }
   ],
   "source": [
    "query = Query.from_problems(\n",
    "    Price = 30000\n",
    ")\n",
    "# sim_funcs: manhattan_sim, euclid_sim\n",
    "\n",
    "max_sim = {\"case\": None, \"sim\": -1.0}\n",
    "for case in case_base:\n",
    "    _sim = calc_similarity(euclid_sim, query, case, field = \"Price\")\n",
    "    if _sim > max_sim[\"sim\"]:\n",
    "        max_sim[\"case\"] = case\n",
    "        max_sim[\"sim\"] = _sim\n",
    "\n",
    "print(\"Your Query:\")\n",
    "for k, v in query.problem.items():\n",
    "    print(f\"  - {k} = {v}\")\n",
    "print()\n",
    "print(\"I recommend you this car:\")\n",
    "print(\" \".join(max_sim[\"case\"].solution.values()).capitalize())\n",
    "print()\n",
    "print(\"Explanation:\")\n",
    "for k in query.problem:\n",
    "    print(f\"  - {k} =\", max_sim[\"case\"].problem[\"Price\"], f\"(similarity: {max_sim['sim']:.2f})\")"
   ]
  }
 ],
 "metadata": {
  "kernelspec": {
   "display_name": "Python 3.10.1 64-bit",
   "language": "python",
   "name": "python3"
  },
  "language_info": {
   "codemirror_mode": {
    "name": "ipython",
    "version": 3
   },
   "file_extension": ".py",
   "mimetype": "text/x-python",
   "name": "python",
   "nbconvert_exporter": "python",
   "pygments_lexer": "ipython3",
   "version": "3.10.1"
  },
  "orig_nbformat": 4,
  "vscode": {
   "interpreter": {
    "hash": "c16264822815f3537619ae9219ef0a807b29987adfb0de442d4ec3ed02ab4326"
   }
  }
 },
 "nbformat": 4,
 "nbformat_minor": 2
}
