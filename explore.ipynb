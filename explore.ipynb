{
 "cells": [
  {
   "cell_type": "code",
   "execution_count": 1,
   "metadata": {},
   "outputs": [],
   "source": [
    "from model import *\n",
    "from similarity import *"
   ]
  },
  {
   "cell_type": "code",
   "execution_count": 2,
   "metadata": {},
   "outputs": [
    {
     "name": "stdout",
     "output_type": "stream",
     "text": [
      "CaseBase(cases=957, fields=[('Price', 'Body', 'Color'), ('Manufacturer', 'Model')])\n"
     ]
    },
    {
     "data": {
      "text/plain": [
       "[Case(problem={'Body': 'sedan', 'Price': 28699, 'Color': 'dark_red'}, solution={'Manufacturer': 'bmw', 'Model': '325td'}),\n",
       " Case(problem={'Body': 'coupe', 'Price': 33299, 'Color': 'dark_red'}, solution={'Manufacturer': 'bmw', 'Model': '320i'}),\n",
       " Case(problem={'Body': 'station_wagon', 'Price': 87499, 'Color': 'dark_green'}, solution={'Manufacturer': 'bmw', 'Model': '540i'})]"
      ]
     },
     "execution_count": 2,
     "metadata": {},
     "output_type": "execute_result"
    }
   ],
   "source": [
    "case_base = CaseBase.from_csv(\n",
    "    \"data/used_cars_flat.csv\",\n",
    "    problem_fields = (\"Price\", \"Body\", \"Color\"),\n",
    "    solution_fields = (\"Manufacturer\", \"Model\"),\n",
    "    encoding = \"utf-8\",\n",
    "    delimiter = \";\",\n",
    "    set_int = True\n",
    ")\n",
    "print(case_base)\n",
    "case_base[:3]"
   ]
  },
  {
   "cell_type": "code",
   "execution_count": 3,
   "metadata": {},
   "outputs": [
    {
     "data": {
      "text/plain": [
       "{'convertible', 'coupe', 'fastback', 'roadster', 'sedan', 'station_wagon'}"
      ]
     },
     "execution_count": 3,
     "metadata": {},
     "output_type": "execute_result"
    }
   ],
   "source": [
    "case_base.get_values_by_field(\"Body\")\n",
    "case_base.add_symbolic_sim(\n",
    "    \"Body\", \n",
    "    {\n",
    "        \"convertible\": {'coupe': 0.7, 'fastback': 0.3, 'roadster': 0.8, 'sedan': 0.2, 'station_wagon': 0.3},\n",
    "        \"coupe\": {'convertible': 0.7, 'fastback': 0.7, 'roadster': 0.6, 'sedan': 0.3, 'station_wagon': 0.2},\n",
    "        \"fastback\": {'convertible' , 'coupe', 'fastback', 'roadster', 'sedan', 'station_wagon'},\n",
    "        \"roadster\": {'convertible', 'coupe', 'fastback', 'roadster', 'sedan', 'station_wagon'},\n",
    "        \"sedan\": {'convertible', 'coupe', 'fastback', 'roadster', 'sedan', 'station_wagon'},\n",
    "        \"station_wagon\": {'convertible', 'coupe', 'fastback', 'roadster', 'sedan', 'station_wagon'}\n",
    "    }\n",
    ")"
   ]
  },
  {
   "cell_type": "code",
   "execution_count": 4,
   "metadata": {},
   "outputs": [
    {
     "name": "stdout",
     "output_type": "stream",
     "text": [
      "Your Query:\n",
      "  - Price = 30001\n",
      "\n",
      "I recommend you this car:\n",
      "Mercedes-benz c_180\n",
      "\n",
      "Explanation:\n",
      "  - Price = 29999 (similarity: 0.33)\n"
     ]
    }
   ],
   "source": [
    "query = Query.from_problems(\n",
    "    Price = 30001\n",
    ")\n",
    "# sim_funcs: manhattan_sim, euclid_sim\n",
    "\n",
    "retrieved = case_base.retrieve(\n",
    "    query,\n",
    "    field = \"Price\",\n",
    "    sim_func = euclid_sim\n",
    ")\n",
    "\n",
    "\n",
    "\n",
    "print(\"Your Query:\")\n",
    "for k, v in query.problem.items():\n",
    "    print(f\"  - {k} = {v}\")\n",
    "print()\n",
    "print(\"I recommend you this car:\")\n",
    "print(\" \".join(retrieved[\"case\"].solution.values()).capitalize())\n",
    "print()\n",
    "print(\"Explanation:\")\n",
    "for k in query.problem:\n",
    "    print(f\"  - {k} =\", retrieved[\"case\"].problem[\"Price\"], f\"(similarity: {retrieved['sim']:.2f})\")"
   ]
  }
 ],
 "metadata": {
  "kernelspec": {
   "display_name": "Python 3.10.1 64-bit",
   "language": "python",
   "name": "python3"
  },
  "language_info": {
   "codemirror_mode": {
    "name": "ipython",
    "version": 3
   },
   "file_extension": ".py",
   "mimetype": "text/x-python",
   "name": "python",
   "nbconvert_exporter": "python",
   "pygments_lexer": "ipython3",
   "version": "3.10.1"
  },
  "orig_nbformat": 4,
  "vscode": {
   "interpreter": {
    "hash": "c16264822815f3537619ae9219ef0a807b29987adfb0de442d4ec3ed02ab4326"
   }
  }
 },
 "nbformat": 4,
 "nbformat_minor": 2
}
